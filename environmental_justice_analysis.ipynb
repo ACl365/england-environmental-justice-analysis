{
 "cells": [
  {
   "cell_type": "markdown",
   "metadata": {},
   "source": [
    "# Environmental Justice and Health Inequalities: A Geospatial Analysis\n",
    "\n",
    "This notebook walks through the analysis of air pollution, deprivation, and respiratory health outcomes in the UK. It explores the relationship between these factors and identifies areas of environmental injustice."
   ]
  },
  {
   "cell_type": "markdown",
   "metadata": {},
   "source": [
    "## 1. Setup and Data Loading\n",
    "\n",
    "First, let's import the necessary libraries and load our datasets."
   ]
  },
  {
   "cell_type": "code",
   "execution_count": null,
   "metadata": {},
   "outputs": [],
   "source": [
    "# Import libraries\n",
    "import pandas as pd\n",
    "import numpy as np\n",
    "import matplotlib.pyplot as plt\n",
    "import seaborn as sns\n",
    "from sklearn.preprocessing import StandardScaler\n",
    "from sklearn.cluster import KMeans\n",
    "from sklearn.decomposition import PCA\n",
    "import geopandas as gpd\n",
    "from scipy.stats import pearsonr, spearmanr\n",
    "import os\n",
    "\n",
    "# Set the plotting style\n",
    "plt.style.use('seaborn-v0_8-whitegrid')\n",
    "sns.set_palette('viridis')\n",
    "plt.rcParams['figure.figsize'] = (12, 8)\n",
    "plt.rcParams['font.size'] = 12\n",
    "\n",
    "# Create output directories if they don't exist\n",
    "os.makedirs('outputs', exist_ok=True)\n",
    "os.makedirs('outputs/figures', exist_ok=True)\n",
    "os.makedirs('outputs/data', exist_ok=True)"
   ]
  },
  {
   "cell_type": "code",
   "execution_count": null,
   "metadata": {},
   "outputs": [],
   "source": [
    "# Load datasets\n",
    "unified_df = pd.read_csv('unified_dataset_with_air_quality.csv')\n",
    "health_df = pd.read_csv('health_indicators_by_lad.csv')\n",
    "wards_df = pd.read_csv('Wards_December_2024_Boundaries_UK_BFC_2423639173483005972.csv')\n",
    "\n",
    "print(f\"Loaded {len(unified_df)} LSOA records, {len(health_df)} LAD health records, and {len(wards_df)} ward records.\")"
   ]
  },
  {
   "cell_type": "markdown",
   "metadata": {},
   "source": [
    "## 2. Exploratory Data Analysis\n",
    "\n",
    "Let's explore the datasets to understand their structure and content."
   ]
  },
  {
   "cell_type": "code",
   "execution_count": null,
   "metadata": {},
   "outputs": [],
   "source": [
    "# Unified dataset summary\n",
    "print(\"Unified Dataset Summary:\")\n",
    "print(f\"Shape: {unified_df.shape}\")\n",
    "print(\"\\nFirst few rows:\")\n",
    "unified_df.head()"
   ]
  },
  {
   "cell_type": "code",
   "execution_count": null,
   "metadata": {},
   "outputs": [],
   "source": [
    "# Check for missing values\n",
    "print(\"Missing values in unified dataset:\")\n",
    "missing_unified = unified_df.isnull().sum()\n",
    "print(missing_unified[missing_unified > 0])"
   ]
  },
  {
   "cell_type": "code",
   "execution_count": null,
   "metadata": {},
   "outputs": [],
   "source": [
    "# Health dataset summary\n",
    "print(\"Health Dataset Summary:\")\n",
    "print(f\"Shape: {health_df.shape}\")\n",
    "print(\"\\nFirst few rows:\")\n",
    "health_df.head()"
   ]
  },
  {
   "cell_type": "code",
   "execution_count": null,
   "metadata": {},
   "outputs": [],
   "source": [
    "# Basic statistics for key variables\n",
    "print(\"Air Quality Statistics:\")\n",
    "air_quality_cols = ['NO2', 'O3', 'PM10', 'PM2.5']\n",
    "unified_df[air_quality_cols].describe()"
   ]
  },
  {
   "cell_type": "code",
   "execution_count": null,
   "metadata": {},
   "outputs": [],
   "source": [
    "print(\"Deprivation Statistics:\")\n",
    "deprivation_cols = ['imd_score_normalized', 'income_score_rate', 'employment_score_rate', \n",
    "                    'health_deprivation_and_disability_score']\n",
    "unified_df[deprivation_cols].describe()"
   ]
  },
  {
   "cell_type": "code",
   "execution_count": null,
   "metadata": {},
   "outputs": [],
   "source": [
    "print(\"Health Indicators Statistics:\")\n",
    "health_cols = ['chronic_conditions_normalized', 'asthma_diabetes_epilepsy_normalized', \n",
    "              'lrti_children_normalized', 'respiratory_health_index']\n",
    "health_df[health_cols].describe()"
   ]
  },
  {
   "cell_type": "markdown",
   "metadata": {},
   "source": [
    "## 3. Environmental Justice Analysis\n",
    "\n",
    "Now, let's analyze the relationship between air pollution and deprivation to understand environmental justice issues."
   ]
  },
  {
   "cell_type": "code",
   "execution_count": null,
   "metadata": {},
   "outputs": [],
   "source": [
    "# Calculate correlation between air pollution and deprivation\n",
    "pollution_cols = ['NO2_normalized', 'PM2.5_normalized', 'PM10_normalized', 'O3']\n",
    "deprivation_cols = ['imd_score_normalized']\n",
    "\n",
    "print(\"Correlation between air pollution and deprivation:\")\n",
    "for p_col in pollution_cols:\n",
    "    for d_col in deprivation_cols:\n",
    "        corr, p_value = pearsonr(unified_df[p_col], unified_df[d_col])\n",
    "        print(f\"{p_col} vs {d_col}: r = {corr:.3f}, p = {p_value:.6f}\")"
   ]
  },
  {
   "cell_type": "code",
   "execution_count": null,
   "metadata": {},
   "outputs": [],
   "source": [
    "# Create scatter plots\n",
    "plt.figure(figsize=(16, 12))\n",
    "\n",
    "for i, p_col in enumerate(pollution_cols):\n",
    "    plt.subplot(2, 2, i+1)\n",
    "    sns.scatterplot(x=unified_df[p_col], y=unified_df['imd_score_normalized'], \n",
    "                    alpha=0.5, edgecolor=None)\n",
    "    \n",
    "    # Add trend line\n",
    "    sns.regplot(x=unified_df[p_col], y=unified_df['imd_score_normalized'], \n",
    "               scatter=False, line_kws={\"color\": \"red\"})\n",
    "    \n",
    "    plt.title(f'{p_col} vs IMD Score')\n",
    "    plt.xlabel(p_col)\n",
    "    plt.ylabel('IMD Score (Normalized)')\n",
    "\n",
    "plt.tight_layout()\n",
    "plt.savefig('outputs/figures/pollution_vs_deprivation.png', dpi=300)\n",
    "plt.show()"
   ]
  },
  {
   "cell_type": "code",
   "execution_count": null,
   "metadata": {},
   "outputs": [],
   "source": [
    "# Analyze environmental justice index\n",
    "plt.figure(figsize=(10, 6))\n",
    "sns.histplot(unified_df['env_justice_index'], bins=50, kde=True)\n",
    "plt.title('Distribution of Environmental Justice Index')\n",
    "plt.xlabel('Environmental Justice Index')\n",
    "plt.ylabel('Frequency')\n",
    "plt.savefig('outputs/figures/env_justice_distribution.png', dpi=300)\n",
    "plt.show()"
   ]
  },
  {
   "cell_type": "code",
   "execution_count": null,
   "metadata": {},
   "outputs": [],
   "source": [
    "# Identify areas with high environmental injustice\n",
    "high_injustice = unified_df.sort_values('env_justice_index', ascending=False).head(20)\n",
    "print(\"Top 20 areas with highest environmental injustice:\")\n",
    "high_injustice[['lsoa_code', 'lsoa_name', 'lad_name', 'imd_score_normalized', \n",
    "                'NO2_normalized', 'PM2.5_normalized', 'env_justice_index']]"
   ]
  },
  {
   "cell_type": "markdown",
   "metadata": {},
   "source": [
    "## 4. Merging Health Data with Pollution Data\n",
    "\n",
    "Let's merge the health indicators with pollution and deprivation data at the LAD level."
   ]
  },
  {
   "cell_type": "code",
   "execution_count": null,
   "metadata": {},
   "outputs": [],
   "source": [
    "# Aggregate unified data to LAD level\n",
    "lad_aggregated = unified_df.groupby('lad_code').agg({\n",
    "    'lad_name': 'first',\n",
    "    'imd_score_normalized': 'mean',\n",
    "    'NO2': 'mean',\n",
    "    'O3': 'mean',\n",
    "    'PM10': 'mean',\n",
    "    'PM2.5': 'mean',\n",
    "    'NO2_normalized': 'mean',\n",
    "    'PM2.5_normalized': 'mean',\n",
    "    'PM10_normalized': 'mean',\n",
    "    'env_justice_index': 'mean'\n",
    "}).reset_index()\n",
    "\n",
    "# Merge with health data\n",
    "merged_df = pd.merge(\n",
    "    lad_aggregated,\n",
    "    health_df,\n",
    "    left_on='lad_code',\n",
    "    right_on='local_authority_code',\n",
    "    how='inner'\n",
    ")\n",
    "\n",
    "print(f\"Merged dataset shape: {merged_df.shape}\")\n",
    "print(f\"Number of LADs in merged dataset: {len(merged_df)}\")\n",
    "\n",
    "# Save merged dataset\n",
    "merged_df.to_csv('outputs/data/lad_health_pollution_merged.csv', index=False)\n",
    "\n",
    "# Display first few rows\n",
    "merged_df.head()"
   ]
  },
  {
   "cell_type": "markdown",
   "metadata": {},
   "source": [
    "## 5. Health-Pollution Relationship Analysis\n",
    "\n",
    "Now, let's analyze the relationship between air pollution and health outcomes."
   ]
  },
  {
   "cell_type": "code",
   "execution_count": null,
   "metadata": {},
   "outputs": [],
   "source": [
    "# Calculate correlations\n",
    "pollution_cols = ['NO2', 'O3', 'PM10', 'PM2.5']\n",
    "health_cols = ['respiratory_health_index', 'chronic_conditions_normalized', \n",
    "              'asthma_diabetes_epilepsy_normalized', 'lrti_children_normalized']\n",
    "\n",
    "print(\"Correlation between air pollution and health outcomes:\")\n",
    "for p_col in pollution_cols:\n",
    "    for h_col in health_cols:\n",
    "        corr, p_value = pearsonr(merged_df[p_col], merged_df[h_col])\n",
    "        print(f\"{p_col} vs {h_col}: r = {corr:.3f}, p = {p_value:.6f}\")"
   ]
  },
  {
   "cell_type": "code",
   "execution_count": null,
   "metadata": {},
   "outputs": [],
   "source": [
    "# Create scatter plots\n",
    "plt.figure(figsize=(16, 12))\n",
    "\n",
    "for i, p_col in enumerate(pollution_cols):\n",
    "    plt.subplot(2, 2, i+1)\n",
    "    sns.scatterplot(x=merged_df[p_col], y=merged_df['respiratory_health_index'], \n",
    "                    alpha=0.6, edgecolor=None)\n",
    "    \n",
    "    # Add trend line\n",
    "    sns.regplot(x=merged_df[p_col], y=merged_df['respiratory_health_index'], \n",
    "               scatter=False, line_kws={\"color\": \"red\"})\n",
    "    \n",
    "    plt.title(f'{p_col} vs Respiratory Health Index')\n",
    "    plt.xlabel(p_col)\n",
    "    plt.ylabel('Respiratory Health Index')\n",
    "\n",
    "plt.tight_layout()\n",
    "plt.savefig('outputs/figures/pollution_vs_health.png', dpi=300)\n",
    "plt.show()"
   ]
  },
  {
   "cell_type": "code",
   "execution_count": null,
   "metadata": {},
   "outputs": [],
   "source": [
    "# Analyze double disadvantage (high pollution + high deprivation)\n",
    "merged_df['double_disadvantage'] = (\n",
    "    (merged_df['imd_score_normalized'] > merged_df['imd_score_normalized'].median()) & \n",
    "    ((merged_df['NO2_normalized'] > merged_df['NO2_normalized'].median()) | \n",
    "     (merged_df['PM2.5_normalized'] > merged_df['PM2.5_normalized'].median()))\n",
    ")\n",
    "\n",
    "# Compare health outcomes between double disadvantage and other areas\n",
    "plt.figure(figsize=(12, 8))\n",
    "sns.boxplot(x='double_disadvantage', y='respiratory_health_index', data=merged_df)\n",
    "plt.title('Respiratory Health Index by Double Disadvantage Status')\n",
    "plt.xlabel('Double Disadvantage (High Pollution + High Deprivation)')\n",
    "plt.ylabel('Respiratory Health Index')\n",
    "plt.xticks([0, 1], ['No', 'Yes'])\n",
    "plt.savefig('outputs/figures/double_disadvantage_health.png', dpi=300)\n",
    "plt.show()"
   ]
  },
  {
   "cell_type": "code",
   "execution_count": null,
   "metadata": {},
   "outputs": [],
   "source": [
    "# T-test to compare means\n",
    "from scipy.stats import ttest_ind\n",
    "double_disadv = merged_df[merged_df['double_disadvantage']]['respiratory_health_index']\n",
    "others = merged_df[~merged_df['double_disadvantage']]['respiratory_health_index']\n",
    "\n",
    "t_stat, p_val = ttest_ind(double_disadv, others)\n",
    "print(f\"T-test comparing respiratory health index between double disadvantage areas and others:\")\n",
    "print(f\"t-statistic: {t_stat:.3f}, p-value: {p_val:.6f}\")\n",
    "print(f\"Mean for double disadvantage areas: {double_disadv.mean():.3f}\")\n",
    "print(f\"Mean for other areas: {others.mean():.3f}\")"
   ]
  },
  {
   "cell_type": "markdown",
   "metadata": {},
   "source": [
    "## 6. Creating a Vulnerability Index\n",
    "\n",
    "Let's create a composite vulnerability index combining pollution, deprivation, and health factors."
   ]
  },
  {
   "cell_type": "code",
   "execution_count": null,
   "metadata": {},
   "outputs": [],
   "source": [
    "# Select variables for the index\n",
    "index_vars = [\n",
    "    'imd_score_normalized', 'NO2_normalized', 'PM2.5_normalized', \n",
    "    'PM10_normalized', 'respiratory_health_index'\n",
    "]\n",
    "\n",
    "# Standardize variables\n",
    "scaler = StandardScaler()\n",
    "scaled_data = scaler.fit_transform(merged_df[index_vars])\n",
    "scaled_df = pd.DataFrame(scaled_data, columns=index_vars)\n",
    "\n",
    "# Create composite index (simple average)\n",
    "merged_df['vulnerability_index'] = scaled_df.mean(axis=1)\n",
    "\n",
    "# Normalize to 0-100 scale\n",
    "min_val = merged_df['vulnerability_index'].min()\n",
    "max_val = merged_df['vulnerability_index'].max()\n",
    "merged_df['vulnerability_index'] = 100 * (merged_df['vulnerability_index'] - min_val) / (max_val - min_val)"
   ]
  },
  {
   "cell_type": "code",
   "execution_count": null,
   "metadata": {},
   "outputs": [],
   "source": [
    "# Identify high vulnerability areas\n",
    "high_vulnerability = merged_df.sort_values('vulnerability_index', ascending=False).head(20)\n",
    "print(\"Top 20 areas with highest vulnerability:\")\n",
    "high_vulnerability[['lad_name', 'vulnerability_index', 'imd_score_normalized', \n",
    "                   'NO2_normalized', 'PM2.5_normalized', 'respiratory_health_index']]"
   ]
  },
  {
   "cell_type": "code",
   "execution_count": null,
   "metadata": {},
   "outputs": [],
   "source": [
    "# Plot vulnerability index distribution\n",
    "plt.figure(figsize=(10, 6))\n",
    "sns.histplot(merged_df['vulnerability_index'], bins=30, kde=True)\n",
    "plt.title('Distribution of Vulnerability Index')\n",
    "plt.xlabel('Vulnerability Index (0-100)')\n",
    "plt.ylabel('Frequency')\n",
    "plt.savefig('outputs/figures/vulnerability_index_distribution.png', dpi=300)\n",
    "plt.show()\n",
    "\n",
    "# Save the full dataset with vulnerability index\n",
    "merged_df.to_csv('outputs/data/lad_with_vulnerability_index.csv', index=False)"
   ]
  },
  {
   "cell_type": "markdown",
   "metadata": {},
   "source": [
    "## 7. Cluster Analysis\n",
    "\n",
    "Finally, let's perform cluster analysis to identify patterns in the data."
   ]
  },
  {
   "cell_type": "code",
   "execution_count": null,
   "metadata": {},
   "outputs": [],
   "source": [
    "# Select variables for clustering\n",
    "cluster_vars = [\n",
    "    'imd_score_normalized', 'NO2_normalized', 'PM2.5_normalized', \n",
    "    'respiratory_health_index', 'vulnerability_index'\n",
    "]\n",
    "\n",
    "# Standardize variables\n",
    "scaler = StandardScaler()\n",
    "scaled_data = scaler.fit_transform(merged_df[cluster_vars])\n",
    "\n",
    "# Determine optimal number of clusters using the elbow method\n",
    "inertia = []\n",
    "k_range = range(1, 11)\n",
    "for k in k_range:\n",
    "    kmeans = KMeans(n_clusters=k, random_state=42, n_init=10)\n",
    "    kmeans.fit(scaled_data)\n",
    "    inertia.append(kmeans.inertia_)\n",
    "\n",
    "# Plot elbow curve\n",
    "plt.figure(figsize=(10, 6))\n",
    "plt.plot(k_range, inertia, 'o-')\n",
    "plt.xlabel('Number of Clusters (k)')\n",
    "plt.ylabel('Inertia')\n",
    "plt.title('Elbow Method for Optimal k')\n",
    "plt.savefig('outputs/figures/elbow_curve.png', dpi=300)\n",
    "plt.show()"
   ]
  },
  {
   "cell_type": "code",
   "execution_count": null,
   "metadata": {},
   "outputs": [],
   "source": [
    "# Choose k=4 clusters (this can be adjusted based on the elbow curve)\n",
    "k = 4\n",
    "kmeans = KMeans(n_clusters=k, random_state=42, n_init=10)\n",
    "merged_df['cluster'] = kmeans.fit_predict(scaled_data)\n",
    "\n",
    "# Analyze clusters\n",
    "cluster_summary = merged_df.groupby('cluster').agg({\n",
    "    'lad_name': 'count',\n",
    "    'imd_score_normalized': 'mean',\n",
    "    'NO2_normalized': 'mean',\n",
    "    'PM2.5_normalized': 'mean',\n",
    "    'respiratory_health_index': 'mean',\n",
    "    'vulnerability_index': 'mean'\n",
    "}).rename(columns={'lad_name': 'count'})\n",
    "\n",
    "print(\"Cluster Summary:\")\n",
    "cluster_summary"
   ]
  },
  {
   "cell_type": "code",
   "execution_count": null,
   "metadata": {},
   "outputs": [],
   "source": [
    "# Visualize clusters using PCA\n",
    "pca = PCA(n_components=2)\n",
    "pca_result = pca.fit_transform(scaled_data)\n",
    "\n",
    "plt.figure(figsize=(12, 8))\n",
    "for i in range(k):\n",
    "    plt.scatter(\n",
    "        pca_result[merged_df['cluster'] == i, 0],\n",
    "        pca_result[merged_df['cluster'] == i, 1],\n",
    "        label=f'Cluster {i}'\n",
    "    )\n",
    "\n",
    "plt.title('PCA Visualization of Clusters')\n",
    "plt.xlabel('Principal Component 1')\n",
    "plt.ylabel('Principal Component 2')\n",
    "plt.legend()\n",
    "plt.savefig('outputs/figures/cluster_pca.png', dpi=300)\n",
    "plt.show()\n",
    "\n",
    "# Save clustered data\n",
    "merged_df.to_csv('outputs/data/lad_clustered.csv', index=False)"
   ]
  },
  {
   "cell_type": "markdown",
   "metadata": {},
   "source": [
    "## 8. Conclusion\n",
    "\n",
    "In this analysis, we've explored the relationship between air pollution, socioeconomic deprivation, and respiratory health outcomes in the UK. We've identified areas of environmental injustice, created a vulnerability index, and performed cluster analysis to identify patterns in the data.\n",
    "\n",
    "Key findings include:\n",
    "1. The relationship between air pollution and deprivation\n",
    "2. The impact of \"double disadvantage\" on respiratory health\n",
    "3. Areas with high vulnerability that should be prioritized for interventions\n",
    "4. Distinct clusters of areas with similar environmental justice and health profiles\n",
    "\n",
    "These insights can inform policy decisions and targeted interventions to address environmental injustice and improve health outcomes in the most vulnerable communities."
   ]
  }
 ],
 "metadata": {
  "kernelspec": {
   "display_name": "Python 3",
   "language": "python",
   "name": "python3"
  },
  "language_info": {
   "codemirror_mode": {
    "name": "ipython",
    "version": 3
   },
   "file_extension": ".py",
   "mimetype": "text/x-python",
   "name": "python",
   "nbconvert_exporter": "python",
   "pygments_lexer": "ipython3",
   "version": "3.8.10"
  }
 },
 "nbformat": 4,
 "nbformat_minor": 4
}